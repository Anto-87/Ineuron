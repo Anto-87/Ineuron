{
 "cells": [
  {
   "cell_type": "markdown",
   "metadata": {},
   "source": [
    "#### Write a function to compute 5/0 and use try/except to catch the exceptions.\n"
   ]
  },
  {
   "cell_type": "code",
   "execution_count": 2,
   "metadata": {},
   "outputs": [
    {
     "name": "stdout",
     "output_type": "stream",
     "text": [
      "Caught the exception as ZeroDivisionError\n"
     ]
    }
   ],
   "source": [
    "def handleException():\n",
    "    try:\n",
    "        a=5/0\n",
    "    except ZeroDivisionError:\n",
    "        print('Caught the exception as ZeroDivisionError')\n",
    "        \n",
    "handleException()"
   ]
  },
  {
   "cell_type": "markdown",
   "metadata": {},
   "source": [
    "#### Implement a Python program to generate all sentences \n",
    "#### where subject is in [\"Americans\", \"Indians\"] and \n",
    "####  verb is in [\"Play\", \"watch\"] and \n",
    "#### the object is in[\"Baseball\",\"cricket\"].\n",
    "\n",
    "#### Hint: Subject,Verb and Object should be declared in the program as shown below.\n",
    "#### subjects=[\"Americans \",\"Indians\"]\n",
    "#### verbs=[\"play\",\"watch\"]\n",
    "#### objects=[\"Baseball\",\"Cricket\"]\n",
    "\n",
    "#### Output should come as below:\n",
    "\n",
    "#### Americans play Baseball.\n",
    "\n",
    "#### Americans play Cricket.\n",
    "\n",
    "#### Americans watch Baseball.\n",
    "\n",
    "#### Americans watch Cricket.\n",
    "\n",
    "#### Indians play Baseball.\n",
    "\n",
    "#### Indians play Cricket.\n",
    "\n",
    "#### Indians watch Baseball.\n",
    "\n",
    "#### Indians watch Cricket."
   ]
  },
  {
   "cell_type": "code",
   "execution_count": 46,
   "metadata": {},
   "outputs": [
    {
     "name": "stdout",
     "output_type": "stream",
     "text": [
      "Americans Play Baseball.\n",
      "Americans Play Cricket.\n",
      "Americans Watch Baseball.\n",
      "Americans Watch Cricket.\n",
      "Indians Play Baseball.\n",
      "Indians Play Cricket.\n",
      "Indians Watch Baseball.\n",
      "Indians Watch Cricket.\n"
     ]
    }
   ],
   "source": [
    "__subject = ['Americans','Indians']\n",
    "__verb = ['Play','Watch']\n",
    "__object = ['Baseball','Cricket']\n",
    "\n",
    "sentences = [ sub + \" \" + ver +\" \"+ obj +\".\" for sub in __subject for ver in __verb for obj in __object]\n",
    "for sent in sentences:\n",
    "    print(sent)"
   ]
  }
 ],
 "metadata": {
  "kernelspec": {
   "display_name": "Python 3",
   "language": "python",
   "name": "python3"
  },
  "language_info": {
   "codemirror_mode": {
    "name": "ipython",
    "version": 3
   },
   "file_extension": ".py",
   "mimetype": "text/x-python",
   "name": "python",
   "nbconvert_exporter": "python",
   "pygments_lexer": "ipython3",
   "version": "3.8.3"
  }
 },
 "nbformat": 4,
 "nbformat_minor": 4
}
