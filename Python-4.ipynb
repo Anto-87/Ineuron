{
 "cells": [
  {
   "cell_type": "markdown",
   "metadata": {},
   "source": [
    "#### Write a Python Program(with class concepts) to find the area of the triangle using the below formula.\n",
    "#### area = (s*(s-a)*(s-b)*(s-c)) ** 0.5\n",
    "#### Function to take the length of the sides of triangle from user should be defined in the parent class and function to calculate the area should be defined in subclass."
   ]
  },
  {
   "cell_type": "code",
   "execution_count": 18,
   "metadata": {},
   "outputs": [
    {
     "name": "stdout",
     "output_type": "stream",
     "text": [
      "Enter the first side 10\n",
      "Enter the second side 50\n",
      "Enter the third side 50\n",
      "The area of triangle is  30937.5\n"
     ]
    }
   ],
   "source": [
    "class area:\n",
    "    \n",
    "    def __init__(self):\n",
    "        self.a = float(input(\"Enter the first side \"))\n",
    "        self.b = float(input(\"Enter the second side \"))\n",
    "        self.c = float(input(\"Enter the third side \"))\n",
    "        self.__area=0\n",
    "        \n",
    "class calculate(area):\n",
    "    \n",
    "    def __init__ (self):\n",
    "        area.__init__(self)\n",
    "        \n",
    "    def findArea(self):\n",
    "        s= (self.a + self.b + self.c)/2\n",
    "        self.__area = float((s * (s - self.a) * (s - self.b) * (s - self.c))) * 0.5\n",
    "        return self.__area\n",
    "    \n",
    "\n",
    "obj = calculate()\n",
    "print(f'The area of triangle is  {obj.findArea()}')"
   ]
  },
  {
   "cell_type": "markdown",
   "metadata": {},
   "source": [
    "###### Write a function filter_long_words() that takes a list of words and an integer n and returns the list of words that are longer than n."
   ]
  },
  {
   "cell_type": "code",
   "execution_count": 43,
   "metadata": {},
   "outputs": [
    {
     "name": "stdout",
     "output_type": "stream",
     "text": [
      "Enter the words hai, welcome, today\n",
      "Enter the number 4\n",
      "[' welcome', ' today']\n"
     ]
    }
   ],
   "source": [
    "def filter_long_words(string, number):\n",
    "    return [words for words in string.split(\",\") if(len(words)>number)]\n",
    "\n",
    "words = input(\"Enter the words \")\n",
    "number = int(input(\"Enter the number \"))\n",
    "print(filter_long_words(words, number))"
   ]
  },
  {
   "cell_type": "markdown",
   "metadata": {},
   "source": [
    "#### Write a Python program using function concept that maps list of words into a list of integers representing the lengths of the corresponding words.\n",
    "#### Hint: If a list [ ab,cde,erty] is passed on to the python function output should come as [2,3,4] Here 2,3 and 4 are the lengths of the words in the list."
   ]
  },
  {
   "cell_type": "code",
   "execution_count": 41,
   "metadata": {},
   "outputs": [
    {
     "name": "stdout",
     "output_type": "stream",
     "text": [
      "Enter the list of the words hai,wel\n"
     ]
    },
    {
     "data": {
      "text/plain": [
       "[3, 3]"
      ]
     },
     "execution_count": 41,
     "metadata": {},
     "output_type": "execute_result"
    }
   ],
   "source": [
    "def mapListOfWords(listWords):\n",
    "    return [len(words) for words in listWords]\n",
    "words = list(input(\"Enter the list of the words \").split(\",\"))\n",
    "mapListOfWords(words)"
   ]
  },
  {
   "cell_type": "markdown",
   "metadata": {},
   "source": [
    "#### Write a Python function which takes a character (i.e. a string of length 1) and returns True if it is a vowel, False otherwise."
   ]
  },
  {
   "cell_type": "code",
   "execution_count": 47,
   "metadata": {},
   "outputs": [
    {
     "name": "stdout",
     "output_type": "stream",
     "text": [
      "Enter the character to check vowel a\n"
     ]
    },
    {
     "data": {
      "text/plain": [
       "True"
      ]
     },
     "execution_count": 47,
     "metadata": {},
     "output_type": "execute_result"
    }
   ],
   "source": [
    "def __checkIsVowel(string):\n",
    "    vowel='aeiou'\n",
    "    return string in vowel\n",
    "str = input(\"Enter the character to check vowel \")\n",
    "__checkIsVowel(str)"
   ]
  }
 ],
 "metadata": {
  "kernelspec": {
   "display_name": "Python 3",
   "language": "python",
   "name": "python3"
  },
  "language_info": {
   "codemirror_mode": {
    "name": "ipython",
    "version": 3
   },
   "file_extension": ".py",
   "mimetype": "text/x-python",
   "name": "python",
   "nbconvert_exporter": "python",
   "pygments_lexer": "ipython3",
   "version": "3.8.3"
  }
 },
 "nbformat": 4,
 "nbformat_minor": 4
}
