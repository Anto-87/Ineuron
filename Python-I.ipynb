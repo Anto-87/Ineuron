{
 "cells": [
  {
   "cell_type": "markdown",
   "metadata": {},
   "source": [
    "1.Write a program which will find all such number which are divisible by 7 \n",
    "but are not a multiple of 5, between 2000 and 3200 (both included). The numbers\n",
    "obtained shuld be printed in a comma-seprated sequence on a single line."
   ]
  },
  {
   "cell_type": "code",
   "execution_count": 1,
   "metadata": {},
   "outputs": [],
   "source": [
    "list = ([i for i in range(2000, 3201) if (i%7==0) and (i%5!=0)])\n",
    "print(','.join(map(str, list)))  "
   ]
  },
  {
   "cell_type": "markdown",
   "metadata": {},
   "source": [
    "2.Write a python program to accept the user's first and lastname and then \n",
    "getting them printed in the reverse order with a space between first name and last name."
   ]
  },
  {
   "cell_type": "code",
   "execution_count": 2,
   "metadata": {},
   "outputs": [
    {
     "name": "stdout",
     "output_type": "stream",
     "text": [
      "Enter the first name Antony\n",
      "Enter the last name Chris\n",
      "Chris Antony\n"
     ]
    }
   ],
   "source": [
    "firstName = input(\"Enter the first name \")\n",
    "lastName = input(\"Enter the last name \")\n",
    "reverse = lastName + \" \" + firstName\n",
    "print(reverse)"
   ]
  },
  {
   "cell_type": "markdown",
   "metadata": {},
   "source": [
    "3.Write a python program to find the volume of a sphere with diameter 12 cm"
   ]
  },
  {
   "cell_type": "code",
   "execution_count": 3,
   "metadata": {},
   "outputs": [
    {
     "name": "stdout",
     "output_type": "stream",
     "text": [
      "7238.229473870882\n"
     ]
    }
   ],
   "source": [
    "import math\n",
    "volume_sphere = (4/3)*math.pi*math.pow(12,3)\n",
    "print(volume_sphere)"
   ]
  }
 ],
 "metadata": {
  "kernelspec": {
   "display_name": "Python 3",
   "language": "python",
   "name": "python3"
  },
  "language_info": {
   "codemirror_mode": {
    "name": "ipython",
    "version": 3
   },
   "file_extension": ".py",
   "mimetype": "text/x-python",
   "name": "python",
   "nbconvert_exporter": "python",
   "pygments_lexer": "ipython3",
   "version": "3.8.3"
  }
 },
 "nbformat": 4,
 "nbformat_minor": 4
}
